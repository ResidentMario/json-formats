{
 "cells": [
  {
   "cell_type": "markdown",
   "metadata": {},
   "source": [
    "## Getting the data"
   ]
  },
  {
   "cell_type": "markdown",
   "metadata": {},
   "source": [
    "You can use the sample included in this repo.\n",
    "\n",
    "Or, to generate this sample yourself, go to the [Google BigQuery console](https://console.cloud.google.com/bigquery) and run the following code:\n",
    "\n",
    "```sql\n",
    "SELECT repo_name, path FROM `bigquery-public-data.github_repos.files` WHERE SUBSTR(path, LENGTH(path) - 4, 5)='.json'\n",
    "```\n",
    "\n",
    "This will consume ~160 GB out of your 1 TB monthly free tier scan budget.\n",
    "\n",
    "Export this file as a CSV. Although the scan returns almost 40 million results only 16,000 of them will be in the export. The sample seems random enough (e.g. the sample is not lexically ordered) to be a good random sample."
   ]
  },
  {
   "cell_type": "markdown",
   "metadata": {},
   "source": [
    "## Basic exploration"
   ]
  },
  {
   "cell_type": "code",
   "execution_count": 5,
   "metadata": {},
   "outputs": [],
   "source": [
    "import pandas as pd\n",
    "df = pd.read_csv('../data/jsons-on-github-sample.csv')\n",
    "df = (df\n",
    "      .assign(path=df.apply(lambda srs: srs['repo_name'] + '/tree/master/' + srs['path'], axis='columns'))\n",
    "      .assign(raw=df.apply(lambda srs: srs['repo_name'] + '/raw/master/' + srs['path'], axis='columns'))\n",
    "     )"
   ]
  },
  {
   "cell_type": "code",
   "execution_count": 14,
   "metadata": {},
   "outputs": [
    {
     "data": {
      "text/plain": [
       "Text(0.5, 1.0, 'Is this a JSON file in node_modules?')"
      ]
     },
     "execution_count": 14,
     "metadata": {},
     "output_type": "execute_result"
    },
    {
     "data": {
      "image/png": "[encoded data removed]",
      "text/plain": [
       "<Figure size 432x288 with 1 Axes>"
      ]
     },
     "metadata": {},
     "output_type": "display_data"
    }
   ],
   "source": [
    "%matplotlib inline\n",
    "import matplotlib.pyplot as plt\n",
    "plt.style.use('fivethirtyeight')\n",
    "\n",
    "df.path.map(lambda p: 'node_modules' in p).value_counts().plot.bar(color='black')\n",
    "plt.title('Is this a JSON file in node_modules?')"
   ]
  },
  {
   "cell_type": "code",
   "execution_count": 18,
   "metadata": {
    "scrolled": false
   },
   "outputs": [
    {
     "data": {
      "text/plain": [
       "array(['okeefem2/rhodesiderelics/tree/master/frontend/node_modules/caniuse-db/features-json/screen-orientation.json',\n",
       "       'umraniyeacil/umraniyeacil.github.io/tree/master/node_modules/grunt-sass/node_modules/node-sass/node_modules/chalk/node_modules/strip-ansi/package.json',\n",
       "       'wbg-bigdata/projectratingsml/tree/master/data/txt/P105092/0000A8056_2010082916001786.json',\n",
       "       'maratonato/slides/tree/master/treinamento1/node_modules/isexe/package.json',\n",
       "       'yvasiyarov/gorelic/tree/master/nut.json',\n",
       "       'dakshshah96/cdnjs/tree/master/ajax/libs/oojs-ui/0.22.0/i18n/en-ca.json',\n",
       "       'mtnguyenvn/zend/tree/master/vendor/zendframework/zend-mail/composer.json',\n",
       "       'fiftywalrus/SmoothOperator/tree/master/Java 1.6/assets/minecraft/models/block/trapdoor_top_open.json',\n",
       "       'parasaro92/psd2html/tree/master/node_modules/grunt-http-server/node_modules/http-server/node_modules/union/package.json',\n",
       "       'cdroescher/OpenRefine-TimeBench-Extension/tree/master/module/bower_components/bootstrap/bower.json',\n",
       "       'mdoering/backbone/tree/master/life/Fungi/Ascomycota/Sordariomycetes/Hypocreales/Zygosporium/Urobasidium brasiliense/data.json',\n",
       "       'kiang/jrf_data_judgements/tree/master/2007/09/28/TND-96-簡-2898-20070929-1.json',\n",
       "       'nicolasmassouh/nicolasmassouh.github.io/tree/master/node_modules/grunt-contrib-connect/node_modules/connect-livereload/package.json',\n",
       "       'wbg-bigdata/projectratingsml/tree/master/data/txt/P110614/0000A8056_2012062812425563.json',\n",
       "       'tinayuangao/material2/tree/master/tools/dashboard/src/tsconfig.json',\n",
       "       'kiang/jrf_data_judgements/tree/master/2007/01/31/TYD-96-壢交簡-225-20070131-1.json',\n",
       "       'wxdublin/shrike/tree/master/conf.json',\n",
       "       'codemeta/codemeta.github.io/tree/master/static/schema.json',\n",
       "       'kiang/jrf_data_judgements/tree/master/2011/10/24/TCD-100-司票-4681-20111025-1.json',\n",
       "       'thanhle09t2bkdn/yii2-rest/tree/master/swagger-docs/swagger.json',\n",
       "       'kiang/jrf_data_judgements/tree/master/2004/03/13/TYD-93-桃簡-211-20040313-1.json',\n",
       "       'joshmadewell/toolkit-for-ynab/tree/master/source/common/res/features/budget-quick-switch/settings.json',\n",
       "       'mdoering/backbone/tree/master/life/Fungi/Ascomycota/Lecanoromycetes/Lecanorales/Parmeliaceae/Cetraria/Cetraria collata/Cetraria collata collata/data.json',\n",
       "       'egg-/google-releated-searches/tree/master/package.json',\n",
       "       'mdoering/backbone/tree/master/life/Fungi/Basidiomycota/Ustilaginomycetes/Urocystidiales/Glomosporiaceae/Thecaphora/Sorosporium melandrii/ Syn. Sorosporium melandryi/data.json',\n",
       "       'yariplus/NodeBB/tree/master/public/language/ko/admin/settings/general.json',\n",
       "       'rohitwaghchaure/erpnext-receipher/tree/master/erpnext/contacts/doctype/party_type/party_type.json',\n",
       "       'sufuf3/cdnjs/tree/master/ajax/libs/oojs-ui/0.18.4/i18n/cu.json',\n",
       "       'sopier/django/tree/master/tests/multiple_database/fixtures/pets.json',\n",
       "       'medaymenourabi/HikingZoneFront/tree/master/node_modules/node-uuid/component.json',\n",
       "       'itzsarim/watch-em-sing/tree/master/node_modules/gulp/node_modules/liftoff/node_modules/resolve/lib/core.json',\n",
       "       'kiang/jrf_data_judgements/tree/master/2007/11/27/KSD-96-促-96348-20071128-1.json',\n",
       "       'minishift/minishift/tree/master/addons/xpaas/v3.11/xpaas-templates/sso72-x509-postgresql-persistent.json',\n",
       "       'simonmysun/praxis/tree/master/VocabularyTest/data/order/46221.json',\n",
       "       'xs2maverick/c44d734/tree/master/sites/all/libraries/mapboxGIT/docs/examples/examples.json',\n",
       "       'kiang/jrf_data_judgements/tree/master/2011/01/18/TCD-99-訴-3707-20110119-1.json',\n",
       "       'mdoering/backbone/tree/master/life/Fungi/Ascomycota/Lecanoromycetes/Teloschistales/Caliciaceae/Calicium/Calicium floerkei/Calicium floerkei floerkei/data.json',\n",
       "       'mdoering/backbone/tree/master/life/Fungi/Basidiomycota/Pucciniomycetes/Pucciniales/Uredo/Uredo nyssae/data.json',\n",
       "       'voodka/ghostbakup/tree/master/node_modules/grunt-contrib-uglify/node_modules/uglify-js/node_modules/yargs/node_modules/cliui/node_modules/center-align/node_modules/align-text/node_modules/kind-of/package.json',\n",
       "       'vancarney/apihero-ui-widget-jplayer/tree/master/node_modules/loopback-testing/node_modules/supertest/node_modules/superagent/node_modules/extend/package.json',\n",
       "       'senchalabs/philogl/tree/master/examples/worldFlights/data/places/Evansville^United_States.json',\n",
       "       'taohungyang/cloud-custodian/tree/master/tests/data/placebo/test_asg_image_age_filter/autoscaling.DescribeLaunchConfigurations_1.json',\n",
       "       'sizuhiko/polyester/tree/master/docs/bower_components/paper-behaviors/bower.json',\n",
       "       'unifieddigitalmedia/unifieddigitalmedia-M.E.A.N_stack/tree/master/packages/custom/mail-templates/node_modules/email-templates/node_modules/juice/node_modules/web-resource-inliner/node_modules/request/node_modules/har-validator/node_modules/is-my-json-valid/test/json-schema-draft4/maxProperties.json',\n",
       "       'wackosix/WSWeibo/tree/master/Demos/weibo/WSWeibo/Image/Assets.xcassets/compose/compose_photo_original_disable.imageset/Contents.json',\n",
       "       'skriptble/assembler-doc/tree/master/node_modules/grunt-contrib-cssmin/node_modules/clean-css/package.json',\n",
       "       'jigish-addweb/d8commerce/tree/master/vendor/commerceguys/intl/resources/currency/es-CR.json',\n",
       "       'cuongnd/banhangonline88_joomla/tree/master/libraries/cms/html/dashboard/bower_components/select2/package.json',\n",
       "       'joepoptiya/practise/tree/master/cli/angm-demo/project/src/tsconfig.json',\n",
       "       'siefkenj/coursechooser/tree/master/MATH_items.json',\n",
       "       'yorickgirard/task_manager/tree/master/vendor/symfony/symfony/src/Symfony/Component/Intl/Resources/data/currencies/es_VE.json',\n",
       "       'timothystone/roll20-character-sheets/tree/master/13th Age Official/translations/zh.json',\n",
       "       'usmanantharikta/workshop_bekup/tree/master/node-v4.6.1-linux-x64/lib/node_modules/npm/node_modules/read-package-json/package.json',\n",
       "       'pombredanne/cdnjs/tree/master/ajax/libs/uikit/package.json',\n",
       "       'krisalbert/react-skeleton/tree/master/node_modules/envify/package.json',\n",
       "       'ramoslin02/babel/tree/master/packages/babylon/test/fixtures/core/uncategorised/253/expected.json',\n",
       "       'kiang/jrf_data_judgements/tree/master/1999/06/24/TPS-88-台上-3373-19990624.json',\n",
       "       'kiang/jrf_data_judgements/tree/master/1998/08/13/TPS-87-台上-1861-19980813.json',\n",
       "       'tuxun/smw-funwiki/tree/master/extensions/PageSchemas/i18n/fa.json',\n",
       "       'shuobeige11/node-cms/tree/master/admin/node_modules/helmet/node_modules/helmet-csp/node_modules/lodash.reduce/node_modules/lodash._basecallback/node_modules/lodash._baseisequal/package.json',\n",
       "       'prcongithub/jombay-chef-repo/tree/master/cookbooks/postgresql/metadata.json',\n",
       "       'jrshah/dropbox-demo/tree/master/node_modules/fsevents/node_modules/is-my-json-valid/test/json-schema-draft4/enum.json',\n",
       "       'Naktibalda/symfony/tree/master/src/Symfony/Component/Intl/Resources/data/languages/as.json',\n",
       "       'mdoering/backbone/tree/master/life/Fungi/Ascomycota/Lecanoromycetes/Lecanorales/Lecideaceae/Lecidea/Lecidea subclausa/data.json',\n",
       "       'kiang/jrf_data_judgements/tree/master/2011/12/27/CHD-100-司促-16825-20111228-1.json',\n",
       "       'kiang/jrf_data_judgements/tree/master/2007/11/29/KSD-96-易-3432-20071129-1.json',\n",
       "       'rhodey/light-sockets/tree/master/socket-server/lib/node_modules/socket.io/node_modules/socket.io-client/node_modules/ws/package.json',\n",
       "       'kiang/jrf_data_judgements/tree/master/2005/04/25/TPD-94-訴-301-20050426-1.json',\n",
       "       'kiang/jrf_data_judgements/tree/master/2011/02/10/KSD-100-司促-4525-20110210-1.json',\n",
       "       'kiang/jrf_data_judgements/tree/master/2007/12/27/TYD-96-交聲-813-20071228-1.json',\n",
       "       'kiang/jrf_data_judgements/tree/master/2004/09/01/TND-93-簡-1917-20040901-1.json',\n",
       "       'mezohe/glekitufa/tree/master/ircbot/node_modules/socket.io/node_modules/socket.io-parser/package.json',\n",
       "       'noematanet/collection/tree/master/artworks/d/342/d34276-61444.json',\n",
       "       'jiumx60rus/grishyGhost/tree/master/staticDecor/node_modules/grunt-uncss/node_modules/uncss/node_modules/glob/node_modules/inherits/package.json',\n",
       "       'tategallery/collection/tree/master/artworks/d/400/d40084-63852.json',\n",
       "       'kiang/jrf_data_judgements/tree/master/2011/09/22/KSD-100-司促-41144-20110922-1.json',\n",
       "       'Whatsit2yaa/vast-tundra-84597/tree/master/node_modules/npm/node_modules/lodash.without/node_modules/lodash._basedifference/package.json',\n",
       "       'simonmysun/praxis/tree/master/VocabularyTest/data/word/dork.json',\n",
       "       's941622/Angular2_angular-tour-of-heroes/tree/master/node_modules/normalize-package-data/test/fixtures/underscore.json',\n",
       "       'rgujju/NexIDE/tree/master/node_modules/serialport/node_modules/node-pre-gyp/node_modules/request/node_modules/bl/package.json',\n",
       "       'getkalvi/kalvi/tree/master/profiles/kalvi/libraries/underscore/package.json',\n",
       "       'rsk-project/greece-geographic-data/tree/master/geo/geojson/2-municipalities/821.json',\n",
       "       'perrineb/2015-lpdw-html5css3/tree/master/grunt/config-grunt/node_modules/grunt-contrib-imagemin/node_modules/imagemin/node_modules/imagemin-gifsicle/node_modules/gifsicle/node_modules/bin-wrapper/node_modules/download/node_modules/caw/node_modules/is-obj/package.json',\n",
       "       'quattromani/mustang/tree/master/node_modules/grunt-contrib-cssmin/node_modules/maxmin/node_modules/gzip-size/node_modules/concat-stream/package.json',\n",
       "       'kiang/jrf_data_judgements/tree/master/2004/08/16/TND-93-交簡-1292-20040816-1.json',\n",
       "       'omar1893/test/tree/master/node_modules/bower/lib/node_modules/redent/package.json',\n",
       "       'wearecircuit/cloudninese-new/tree/master/node_modules/bower/node_modules/inquirer/node_modules/mute-stream/package.json',\n",
       "       'luhad/cdnjs/tree/master/ajax/libs/F2/package.json',\n",
       "       'zaevans/azure-sdk-for-net/tree/master/src/ResourceManagement/ApiManagement/ApiManagement.Tests/SessionRecords/SmapiFunctionalTests/SubscriptionsCreateListUpdateDelete.json',\n",
       "       'laffer1/cdnjs/tree/master/ajax/libs/zeroclipboard/package.json',\n",
       "       'yaakoviyun/azure-rest-api-specs/tree/master/specification/azsadmin/resource-manager/network/Microsoft.Network.Admin/preview/2015-06-15/VirtualNetworks.json',\n",
       "       'piotrpasich/aws-sdk-php/tree/master/src/data/route53/2013-04-01/paginators-1.json',\n",
       "       'solankisamir/azure-rest-api-specs/tree/master/specification/monitor/resource-manager/Microsoft.Insights/stable/2018-03-01/examples/deleteActionGroup.json',\n",
       "       'kiang/jrf_data_judgements/tree/master/2005/01/31/TND-93-附民-198-20050201-1.json',\n",
       "       'tamzi/PacktMeteorRecipes/tree/master/CH 08/8.03- creating.uis.polymer/end/polymersample/public/components/core-selector/.bower.json',\n",
       "       'kiang/jrf_data_judgements/tree/master/2004/08/04/TPD-93-重附民-53-20040805-1.json',\n",
       "       'jinwen/ninja/tree/master/server/node_modules/jade/node_modules/monocle/node_modules/readdirp/examples/node_modules/event-stream/node_modules/optimist/node_modules/wordwrap/package.json',\n",
       "       'pbentoncron/nice/tree/master/Jerrod_Quintana/Assignments/express/message_board/node_modules/statuses/package.json',\n",
       "       'adam2392/clinicaltrials/tree/master/clinicalsearch/static/node_modules/datamaps/src/js/data/fro.topo.json',\n",
       "       'kiang/jrf_data_judgements/tree/master/2007/06/28/PCD-96-票-7287-20070628-1.json'],\n",
       "      dtype=object)"
      ]
     },
     "execution_count": 18,
     "metadata": {},
     "output_type": "execute_result"
    }
   ],
   "source": [
    "df.path.sample(100).values"
   ]
  },
  {
   "cell_type": "markdown",
   "metadata": {},
   "source": [
    "## Cleaning"
   ]
  },
  {
   "cell_type": "markdown",
   "metadata": {},
   "source": [
    "The only cleaning we will do is dropping paths with `node_modules` in them from consideration. These are accidental check-ins of your `node_modules` directory, which you shouldn't be checking in."
   ]
  },
  {
   "cell_type": "code",
   "execution_count": 7,
   "metadata": {},
   "outputs": [],
   "source": [
    "df_filtered = df[df.path.map(lambda p: 'node_modules' not in p)]"
   ]
  },
  {
   "cell_type": "markdown",
   "metadata": {},
   "source": [
    "## Reading sample files"
   ]
  },
  {
   "cell_type": "code",
   "execution_count": 47,
   "metadata": {},
   "outputs": [],
   "source": [
    "import requests\n",
    "ex = requests.get('https://github.com/' + df_filtered.sample().raw.values[0])"
   ]
  },
  {
   "cell_type": "code",
   "execution_count": 48,
   "metadata": {},
   "outputs": [
    {
     "name": "stdout",
     "output_type": "stream",
     "text": [
      "{\n",
      "    \"name\":    \"phpdocumentor/type-resolver\",\n",
      "    \"type\":    \"library\",\n",
      "    \"license\": \"MIT\",\n",
      "    \"authors\": [\n",
      "        {\"name\": \"Mike van Riel\", \"email\": \"me@mikevanriel.com\"}\n",
      "    ],\n",
      "    \"require\": {\n",
      "        \"php\": \">=5.5\",\n",
      "        \"phpdocumentor/reflection-common\": \"^1.0\"\n",
      "    },\n",
      "    \"autoload\": {\n",
      "        \"psr-4\": {\"phpDocumentor\\\\Reflection\\\\\": [\"src/\"]}\n",
      "    },\n",
      "    \"autoload-dev\": {\n",
      "        \"psr-4\": {\"phpDocumentor\\\\Reflection\\\\\": [\"tests/unit\"]}\n",
      "    },\n",
      "    \"require-dev\": {\n",
      "        \"phpunit/phpunit\": \"^5.2||^4.8.24\",\n",
      "        \"mockery/mockery\": \"^0.9.4\"\n",
      "    },\n",
      "    \"extra\": {\n",
      "        \"branch-alias\": {\n",
      "            \"dev-master\": \"1.0.x-dev\"\n",
      "        }\n",
      "    }\n",
      "}\n",
      "\n"
     ]
    }
   ],
   "source": [
    "print(ex.text)"
   ]
  },
  {
   "cell_type": "markdown",
   "metadata": {},
   "source": [
    "Compatible JSON strings can be produced by ``to_json()`` with a\n",
    "corresponding orient value.\n",
    "The set of possible orients is:\n",
    "\n",
    "- ``'split'`` : dict like\n",
    "  ``{index -> [index], columns -> [columns], data -> [values]}``\n",
    "- ``'records'`` : list like\n",
    "  ``[{column -> value}, ... , {column -> value}]``\n",
    "- ``'index'`` : dict like ``{index -> {column -> value}}``\n",
    "- ``'columns'`` : dict like ``{column -> {index -> value}}``\n",
    "- ``'values'`` : just the values array"
   ]
  },
  {
   "cell_type": "code",
   "execution_count": 120,
   "metadata": {},
   "outputs": [],
   "source": [
    "import pandas as pd\n",
    "from json import JSONDecodeError\n",
    "\n",
    "\n",
    "def typeof(json_str):\n",
    "    ret = []\n",
    "    for orient in ['split', 'records', 'index', 'columns', 'values']:\n",
    "        try:\n",
    "            pd.read_json(json_str, orient=orient)\n",
    "        except:\n",
    "            pass\n",
    "        else:\n",
    "            ret.append(orient)\n",
    "            \n",
    "    if not ret:\n",
    "        ret.append('tree')\n",
    "        \n",
    "    return ret\n",
    "\n",
    "\n",
    "@ratelim.patient(5, 5)\n",
    "def fetch_random_json():\n",
    "    return requests.get('https://github.com/' + df_filtered.sample(1).raw.values[0]).text\n",
    "\n",
    "\n",
    "def sample_json_readable_fmts():\n",
    "    import json\n",
    "    \n",
    "    rand = fetch_random_json()\n",
    "    try:\n",
    "        return json.loads(rand), typeof(rand)\n",
    "    except JSONDecodeError:\n",
    "        return [None, ['malformed']]"
   ]
  },
  {
   "cell_type": "code",
   "execution_count": 123,
   "metadata": {},
   "outputs": [
    {
     "data": {
      "application/vnd.jupyter.widget-view+json": {
       "model_id": "12345606479a4571901fa8a297624744",
       "version_major": 2,
       "version_minor": 0
      },
      "text/plain": [
       "HBox(children=(IntProgress(value=0, max=1000), HTML(value='')))"
      ]
     },
     "metadata": {},
     "output_type": "display_data"
    },
    {
     "name": "stdout",
     "output_type": "stream",
     "text": [
      "\n"
     ]
    }
   ],
   "source": [
    "rand_jsons = []\n",
    "rand_json_fmts_l = []\n",
    "\n",
    "from tqdm import tqdm_notebook\n",
    "\n",
    "for _ in tqdm_notebook(list(range(1000))):\n",
    "    rand_json, rand_json_fmts = sample_json_readable_fmts()\n",
    "    rand_jsons.append(rand_json)\n",
    "    rand_json_fmts_l.append(rand_json_fmts)"
   ]
  },
  {
   "cell_type": "code",
   "execution_count": 134,
   "metadata": {},
   "outputs": [
    {
     "data": {
      "text/plain": [
       "records index columns values          457\n",
       "tree                                  420\n",
       "malformed                             121\n",
       "split records index columns values      2\n",
       "dtype: int64"
      ]
     },
     "execution_count": 134,
     "metadata": {},
     "output_type": "execute_result"
    }
   ],
   "source": [
    "pd.Series([' '.join(fmt) for fmt in rand_json_fmts_l]).value_counts()"
   ]
  },
  {
   "cell_type": "markdown",
   "metadata": {},
   "source": [
    "## Conclusion"
   ]
  },
  {
   "cell_type": "markdown",
   "metadata": {},
   "source": [
    "Well, that was profoundly uninteresting!"
   ]
  }
 ],
 "metadata": {
  "kernelspec": {
   "display_name": "Python 3",
   "language": "python",
   "name": "python3"
  },
  "language_info": {
   "codemirror_mode": {
    "name": "ipython",
    "version": 3
   },
   "file_extension": ".py",
   "mimetype": "text/x-python",
   "name": "python",
   "nbconvert_exporter": "python",
   "pygments_lexer": "ipython3",
   "version": "3.6.6"
  }
 },
 "nbformat": 4,
 "nbformat_minor": 2
}
